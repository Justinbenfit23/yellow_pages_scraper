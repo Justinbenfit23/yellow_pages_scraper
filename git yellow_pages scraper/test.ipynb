{
 "cells": [
  {
   "cell_type": "code",
   "execution_count": 25,
   "metadata": {},
   "outputs": [],
   "source": [
    "from pandas.core.arrays.sparse import dtype\n",
    "from selenium import webdriver\n",
    "from selenium.webdriver.common.by import By\n",
    "from bs4 import BeautifulSoup\n",
    "import requests\n",
    "import pandas as pd\n",
    "from pandas import *\n",
    "from selenium.webdriver.support.ui import WebDriverWait\n",
    "from selenium.webdriver.support import expected_conditions as EC\n",
    "from selenium.common.exceptions import TimeoutException\n",
    "import re\n",
    "from bs4 import BeautifulSoup\n",
    "from time import sleep\n",
    "import psycopg2\n",
    "from datetime import date\n",
    "import textdistance"
   ]
  },
  {
   "cell_type": "code",
   "execution_count": 86,
   "metadata": {},
   "outputs": [
    {
     "name": "stdout",
     "output_type": "stream",
     "text": [
      "['14626', '14625', '14624', '14623', '14622', '14621', '14620', '14619', '14618', '14617', '14616', '14615', '14614', '14613', '14612', '14611', '14610', '14609', '14608', '14607', '14606', '14605', '14604', '14603', '14602', '14601', '14592', '14591', '14590', '14589', '14588', '14586', '14585', '14580', '14572', '14571', '14569', '14568', '14564', '14563', '14561', '14560', '14559', '14558', '14557', '14556', '14555', '14551', '14550', '14549', '14548', '14547', '14546', '14545', '14544', '14543', '14542', '14541', '14539', '14538', '14537', '14536', '14534', '14533', '14532', '14530', '14529', '14527', '14526', '14525', '14522', '14521', '14520', '14519', '14518', '14517', '14516', '14515', '14514', '14513', '14512', '14511', '14510', '14508', '14507', '14506', '14505', '14504', '14502', '14489', '14488', '14487', '14486', '14485', '14482', '14481', '14480', '14479', '14478', '14477', '14476', '14475', '14472', '14471', '14470', '14469', '14468', '14467', '14466', '14464', '14463', '14462', '14461', '14456', '14454', '14453', '14452', '14450', '14449', '14445', '14443', '14441', '14437', '14435', '14433', '14432', '14430', '14429', '14428', '14427', '14425', '14424', '14423', '14422', '14420', '14418', '14416', '14415', '14414', '14413', '14411', '14410', '14305', '14304', '14303', '14302', '14301', '14280', '14276', '14273', '14272', '14270', '14269', '14267', '14265', '14264', '14263', '14261', '14260', '14241', '14240', '14233', '14231', '14228', '14227', '14226', '14225', '14224', '14223', '14222', '8870', '8834', '8803', '8557', '8556', '8099', '7829']\n"
     ]
    }
   ],
   "source": [
    "\n",
    "territory_name = 'New York206'\n",
    "count = ''\n",
    "\n",
    "territories_to_scrape = pd.read_csv(\"/Users/justinbenfit/Desktop/yellowpages_scrape/territories_postal_codes.csv\")\n",
    "territories_to_scrape.query(f'territory_name == \"{territory_name}\"', inplace=True)\n",
    "# territories_to_scrape = territories_to_scrape.head(count)\n",
    "postal_codes = list(territories_to_scrape[\"postal_code\"])\n",
    "postal_codes = [str(x) for x in postal_codes]\n",
    "rev = postal_codes[::-1]\n",
    "\n",
    "print(rev)\n",
    "# print(postal_codes)\n",
    "# print(len(postal_codes))"
   ]
  },
  {
   "cell_type": "code",
   "execution_count": 97,
   "metadata": {},
   "outputs": [
    {
     "name": "stdout",
     "output_type": "stream",
     "text": [
      "       territory_id territory_name           userid podium_territory_id  \\\n",
      "17                1        Alaska1  0051P000003mgV2     aD05G00000004ML   \n",
      "18                1        Alaska1  0051P000003mgV2     aD05G00000004ML   \n",
      "19                1        Alaska1  0051P000003mgV2     aD05G00000004ML   \n",
      "20                1        Alaska1  0051P000003mgV2     aD05G00000004ML   \n",
      "21                1        Alaska1  0051P000003mgV2     aD05G00000004ML   \n",
      "...             ...            ...              ...                 ...   \n",
      "32419           228       Maine228  0051a000001os7X     aD05G00000004Mx   \n",
      "32420           228       Maine228  0051a000001os7X     aD05G00000004Mx   \n",
      "32421           228       Maine228  0051a000001os7X     aD05G00000004Mx   \n",
      "32422           228       Maine228  0051a000001os7X     aD05G00000004Mx   \n",
      "32423           228       Maine228  0051a000001os7X     aD05G00000004Mx   \n",
      "\n",
      "            owner_name  postal_code  \n",
      "17         Tyler Dukes        99518  \n",
      "18         Tyler Dukes        99519  \n",
      "19         Tyler Dukes        99520  \n",
      "20         Tyler Dukes        99521  \n",
      "21         Tyler Dukes        99522  \n",
      "...                ...          ...  \n",
      "32419  Isaac Hernandez         4223  \n",
      "32420  Isaac Hernandez         4230  \n",
      "32421  Isaac Hernandez         4565  \n",
      "32422  Isaac Hernandez         5823  \n",
      "32423  Isaac Hernandez         5849  \n",
      "\n",
      "[32407 rows x 6 columns]\n"
     ]
    }
   ],
   "source": [
    "territories_to_scrape = pd.read_csv(\"/Users/justinbenfit/Desktop/yellowpages_scrape/territories_postal_codes.csv\")\n",
    "# print(territories_to_scrape.head())\n",
    "# print(territories_to_scrape[territories_to_scrape['postal_code'] == 99518].index.values)\n",
    "print(territories_to_scrape.loc[17:])"
   ]
  },
  {
   "cell_type": "code",
   "execution_count": 75,
   "metadata": {},
   "outputs": [],
   "source": [
    "import pandas as pd\n",
    "\n",
    "df = pd.DataFrame({'key': ['K0', 'K1', 'K2', 'K3', 'K4', 'K5'],\n",
    "                   'A': ['test', 'teseract', 'timtamslam', 'A3', 'A4', 'A5']})\n",
    "\n",
    "other = pd.DataFrame({'key1': ['K0', 'K1', 'K2'],\n",
    "                      'B': ['test', 'teseracts', 'trophycase'],\n",
    "                      \"Phone\": ['503-555-6666','+(541)-555-5111','555-555-5555 ext. 5555']})\n",
    "                      "
   ]
  },
  {
   "cell_type": "code",
   "execution_count": 76,
   "metadata": {},
   "outputs": [
    {
     "name": "stdout",
     "output_type": "stream",
     "text": [
      "  key1           B       Phone\n",
      "0   K0        test  5035556666\n",
      "1   K1   teseracts  5415555111\n",
      "2   K2  trophycase  5555555555\n"
     ]
    },
    {
     "name": "stderr",
     "output_type": "stream",
     "text": [
      "<ipython-input-76-c873c25cd60e>:1: FutureWarning: The default value of regex will change from True to False in a future version.\n",
      "  other['Phone'] = other['Phone'].str.replace(r\"[+()\\s\\s-]+|ext.\\s.+\",\"\")\n"
     ]
    }
   ],
   "source": [
    "other['Phone'] = other['Phone'].str.replace(r\"[+()\\s\\s-]+|ext.\\s.+\",\"\")\n",
    "print(other)"
   ]
  },
  {
   "cell_type": "code",
   "execution_count": 93,
   "metadata": {},
   "outputs": [
    {
     "name": "stdout",
     "output_type": "stream",
     "text": [
      "  key           A key1           B\n",
      "0  K0        test   K0        test\n",
      "1  K1    teseract   K1   teseracts\n",
      "2  K2  timtamslam   K2  trophycase\n"
     ]
    }
   ],
   "source": [
    "df = df.merge(other, how='left', left_on='key', right_on='key1')\n",
    "df = df.dropna(axis = 0, how ='any')\n",
    "print(df)"
   ]
  },
  {
   "cell_type": "code",
   "execution_count": 94,
   "metadata": {},
   "outputs": [
    {
     "name": "stdout",
     "output_type": "stream",
     "text": [
      "  key           A key1           B  distance\n",
      "0  K0        test   K0        test  1.000000\n",
      "1  K1    teseract   K1   teseracts  0.977778\n",
      "2  K2  timtamslam   K2  trophycase  0.533333\n"
     ]
    }
   ],
   "source": [
    "df[\"distance\"] = df.loc[:, [\"A\",\"B\"]].apply(lambda x: textdistance.jaro_winkler(*x), axis=1)\n",
    "print(df)"
   ]
  },
  {
   "cell_type": "code",
   "execution_count": 95,
   "metadata": {},
   "outputs": [
    {
     "name": "stdout",
     "output_type": "stream",
     "text": [
      "['key', 'key1']\n"
     ]
    }
   ],
   "source": [
    "def get_company_name(df):\n",
    "    company_name = [col for col in df if col.lower().startswith('key')]\n",
    "    print(company_name) \n",
    "get_company_name(df)"
   ]
  },
  {
   "cell_type": "code",
   "execution_count": 81,
   "metadata": {},
   "outputs": [
    {
     "name": "stdout",
     "output_type": "stream",
     "text": [
      "0     Alabama\n",
      "1    Michigan\n",
      "2     Montana\n",
      "3      Oregon\n",
      "Name: State, dtype: object\n"
     ]
    }
   ],
   "source": [
    "s = pd.Series(['AL', \"MI\", 'MT', 'OR'], name= \"State\")\n",
    "def create_states_dict():\n",
    "    abr_states = [\"AL\", \"AK\", \"AZ\", \"AR\", \"CA\", \"CO\", \"CT\", \"DE\", \"FL\", \"GA\", \"HI\", \"ID\", \"IL\", \"IN\", \"IA\", \"KS\", \"KY\", \"LA\", \"ME\", \"MD\", \"MA\", \"MI\", \"MN\", \"MS\", \"MO\", \"MT\", \"NE\", \"NV\", \"NH\", \"NJ\", \"NM\", \"NY\", \"NC\", \"ND\", \"OH\", \"OK\", \"OR\", \"PA\", \"SC\", \"SD\", \"TN\", \"TX\", \"UT\", \"VT\", \"VA\", \"WA\", \"WV\", \"WI\", \"WY\", \"RI\", \"ON\", \"AB\", \"BC\", \"DC\", \"NB\"]\n",
    "    state_names = [\"Alabama\", \"Alaska\", \"Arizona\", \"Arkansas\", \"California\", \"Colorado\", \"Connecticut\", \"Delaware\", \"Florida\", \"Georgia\", \"Hawaii\", \"Idaho\", \"Illinois\", \"Indiana\", \"Iowa\", \"Kansas\", \"Kentucky\", \"Louisiana\", \"Maine\", \"Maryland\", \"Massachusetts\", \"Michigan\", \"Minnesota\", \"Mississippi\", \"Missouri\", \"Montana\", \"Nebraska\", \"Nevada\", \"New Hampshire\", \"New Jersey\", \"New Mexico\", \"New York\", \"North Carolina\", \"North Dakota\", \"Ohio\", \"Oklahoma\", \"Oregon\", \"Pennsylvania\", \"South Carolina\", \"South Dakota\", \"Tennessee\", \"Texas\", \"Utah\", \"Vermont\", \"Virginia\", \"Washington\", \"West Virginia\", \"Wisconsin\", \"Wyoming\", \"Rhode Island\", \"Ontario\", \"Alberta\", \"British Columbia\", \"Washington D.C.\", \"New Brunswick\"]\n",
    "    zip_iterator = zip(abr_states, state_names)\n",
    "    a_dictionary = dict(zip_iterator)\n",
    "    return a_dictionary\n",
    "states_dict = create_states_dict()\n",
    "s.replace(states_dict, inplace=True)\n",
    "print(s)"
   ]
  },
  {
   "cell_type": "code",
   "execution_count": 82,
   "metadata": {},
   "outputs": [
    {
     "name": "stdout",
     "output_type": "stream",
     "text": [
      "                                   Company / Account   Lead Source  \\\n",
      "0  Big Moose RV, & Boat Sales, Service, Camper Re...     Moneyball   \n",
      "1           Holifield Pest Management of Hattiesburg  Self-sourced   \n",
      "2                            Steve Nichols Insurance    Trade Show   \n",
      "3                                    Sandel Law Firm  Self-sourced   \n",
      "4    Duplicate - Checkered Flag FIAT of Newport News  Self-sourced   \n",
      "\n",
      "  Lead Status          Lead ID                                 Email  \\\n",
      "0     Nurture  00Q5G00000W1li0              mike@bigmooservsales.com   \n",
      "1     Nurture  00Q1P00000qBIpR  holifieldpestofhattiesburg@gmail.com   \n",
      "2    Prospect  00Q1P00000r3nfJ                        steve@snis.com   \n",
      "3       Aware  00Q1P00000qB2I5                     kss@sandellaw.com   \n",
      "4     Nurture  00Q1P00000qBKWW                                   NaN   \n",
      "\n",
      "                        Website           Phone                      Street  \\\n",
      "0  https://bigmooservsales.com/  (603) 978-9697  495 White Mountain Highway   \n",
      "1                           NaN    601-545-3187                PO Box 15998   \n",
      "2                           NaN    909-980-3937                         NaN   \n",
      "3                 sandellaw.com      4407721000     3250 West Market Street   \n",
      "4                           NaN    757-369-3565                         NaN   \n",
      "\n",
      "          City     State/Province  ...        Country      Lead Owner  \\\n",
      "0      Ossipee      New Hampshire  ...  United States  Coleson Hofman   \n",
      "1  Hattiesburg        Mississippi  ...  United States    Scott Allred   \n",
      "2       Shelby  US Virgin Islands  ...  United States  Spencer Taylor   \n",
      "3     Fairlawn               Ohio  ...  United States        Cam Hale   \n",
      "4          NaN           Virginia  ...  United States      Deed Iqbal   \n",
      "\n",
      "  Podium User ID         Sub-Vertical               Vertical Converted  \\\n",
      "0            NaN            RV Dealer                   Auto         0   \n",
      "1            NaN         Pest Control          Home Services         0   \n",
      "2            NaN  Insurance Brokerage  Professional Services         0   \n",
      "3            NaN             Law Firm  Professional Services         0   \n",
      "4       481864.0   OEM/New Car Dealer                   Auto         0   \n",
      "\n",
      "   Weekly Scrape Likely Sub-Vertical Identifier           Acquisition Source  \\\n",
      "0            NaN                            NaN             Moneyball - 4/20   \n",
      "1  mass_upload_1                            NaN  Sales Ops Scrape 10/18/2021   \n",
      "2            NaN                            NaN                         BigX   \n",
      "3  mass_upload_1                            NaN                     Zoominfo   \n",
      "4            NaN                            NaN                          NaN   \n",
      "\n",
      "                                         Description  \n",
      "0  05/14/21 they have plenty of work right now, t...  \n",
      "1                                                NaN  \n",
      "2                                                NaN  \n",
      "3  Spoke with Kevin on 4/13/20, refused to do any...  \n",
      "4  Duplicate lead \\nOL link \\nhttps://podium.ligh...  \n",
      "\n",
      "[5 rows x 21 columns]\n"
     ]
    }
   ],
   "source": [
    "master_leads = pd.read_csv('/Users/justinbenfit/Desktop/yellowpages_scrape/report1642183754603.csv')\n",
    "print(master_leads.head())"
   ]
  },
  {
   "cell_type": "code",
   "execution_count": null,
   "metadata": {},
   "outputs": [],
   "source": []
  },
  {
   "cell_type": "code",
   "execution_count": null,
   "metadata": {},
   "outputs": [],
   "source": []
  },
  {
   "cell_type": "code",
   "execution_count": null,
   "metadata": {},
   "outputs": [],
   "source": []
  },
  {
   "cell_type": "code",
   "execution_count": null,
   "metadata": {},
   "outputs": [],
   "source": []
  }
 ],
 "metadata": {
  "interpreter": {
   "hash": "128c26ad1d3d45c86f18342c349cad7f67ed90cbfd1c4a79dc37d69112da92b6"
  },
  "kernelspec": {
   "display_name": "Python 3.9.6 64-bit ('pyfinance': conda)",
   "name": "python3"
  },
  "language_info": {
   "codemirror_mode": {
    "name": "ipython",
    "version": 3
   },
   "file_extension": ".py",
   "mimetype": "text/x-python",
   "name": "python",
   "nbconvert_exporter": "python",
   "pygments_lexer": "ipython3",
   "version": "3.9.6"
  },
  "orig_nbformat": 4
 },
 "nbformat": 4,
 "nbformat_minor": 2
}